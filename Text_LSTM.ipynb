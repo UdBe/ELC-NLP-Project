{
  "cells": [
    {
      "cell_type": "markdown",
      "id": "949c00bc",
      "metadata": {
        "id": "949c00bc"
      },
      "source": [
        "# LSTM Without optimization"
      ]
    },
    {
      "cell_type": "code",
      "execution_count": null,
      "id": "2848e572",
      "metadata": {
        "colab": {
          "base_uri": "https://localhost:8080/"
        },
        "id": "2848e572",
        "outputId": "32a790e5-1205-4d77-e687-2054b114f403"
      },
      "outputs": [
        {
          "output_type": "stream",
          "name": "stdout",
          "text": [
            "Collecting mealpy\n",
            "  Downloading mealpy-2.5.4-py3-none-any.whl (377 kB)\n",
            "\u001b[?25l     \u001b[90m━━━━━━━━━━━━━━━━━━━━━━━━━━━━━━━━━━━━━━━━\u001b[0m \u001b[32m0.0/378.0 kB\u001b[0m \u001b[31m?\u001b[0m eta \u001b[36m-:--:--\u001b[0m\r\u001b[2K     \u001b[91m━━━━━━━━━━━━━━━━━━━━━━━━━━━━━━━━━━━━━\u001b[0m\u001b[90m╺\u001b[0m \u001b[32m368.6/378.0 kB\u001b[0m \u001b[31m11.3 MB/s\u001b[0m eta \u001b[36m0:00:01\u001b[0m\r\u001b[2K     \u001b[90m━━━━━━━━━━━━━━━━━━━━━━━━━━━━━━━━━━━━━━━\u001b[0m \u001b[32m378.0/378.0 kB\u001b[0m \u001b[31m8.7 MB/s\u001b[0m eta \u001b[36m0:00:00\u001b[0m\n",
            "\u001b[?25hRequirement already satisfied: numpy>=1.16.5 in /usr/local/lib/python3.10/dist-packages (from mealpy) (1.23.5)\n",
            "Requirement already satisfied: matplotlib>=3.3.0 in /usr/local/lib/python3.10/dist-packages (from mealpy) (3.7.1)\n",
            "Requirement already satisfied: scipy>=1.7.1 in /usr/local/lib/python3.10/dist-packages (from mealpy) (1.11.3)\n",
            "Requirement already satisfied: pandas>=1.2.0 in /usr/local/lib/python3.10/dist-packages (from mealpy) (1.5.3)\n",
            "Collecting opfunu>=1.0.0 (from mealpy)\n",
            "  Downloading opfunu-1.0.1-py3-none-any.whl (13.0 MB)\n",
            "\u001b[2K     \u001b[90m━━━━━━━━━━━━━━━━━━━━━━━━━━━━━━━━━━━━━━━━\u001b[0m \u001b[32m13.0/13.0 MB\u001b[0m \u001b[31m82.1 MB/s\u001b[0m eta \u001b[36m0:00:00\u001b[0m\n",
            "\u001b[?25hRequirement already satisfied: contourpy>=1.0.1 in /usr/local/lib/python3.10/dist-packages (from matplotlib>=3.3.0->mealpy) (1.1.1)\n",
            "Requirement already satisfied: cycler>=0.10 in /usr/local/lib/python3.10/dist-packages (from matplotlib>=3.3.0->mealpy) (0.12.0)\n",
            "Requirement already satisfied: fonttools>=4.22.0 in /usr/local/lib/python3.10/dist-packages (from matplotlib>=3.3.0->mealpy) (4.43.1)\n",
            "Requirement already satisfied: kiwisolver>=1.0.1 in /usr/local/lib/python3.10/dist-packages (from matplotlib>=3.3.0->mealpy) (1.4.5)\n",
            "Requirement already satisfied: packaging>=20.0 in /usr/local/lib/python3.10/dist-packages (from matplotlib>=3.3.0->mealpy) (23.2)\n",
            "Requirement already satisfied: pillow>=6.2.0 in /usr/local/lib/python3.10/dist-packages (from matplotlib>=3.3.0->mealpy) (9.4.0)\n",
            "Requirement already satisfied: pyparsing>=2.3.1 in /usr/local/lib/python3.10/dist-packages (from matplotlib>=3.3.0->mealpy) (3.1.1)\n",
            "Requirement already satisfied: python-dateutil>=2.7 in /usr/local/lib/python3.10/dist-packages (from matplotlib>=3.3.0->mealpy) (2.8.2)\n",
            "Requirement already satisfied: requests>=2.27.0 in /usr/local/lib/python3.10/dist-packages (from opfunu>=1.0.0->mealpy) (2.31.0)\n",
            "Requirement already satisfied: pytz>=2020.1 in /usr/local/lib/python3.10/dist-packages (from pandas>=1.2.0->mealpy) (2023.3.post1)\n",
            "Requirement already satisfied: six>=1.5 in /usr/local/lib/python3.10/dist-packages (from python-dateutil>=2.7->matplotlib>=3.3.0->mealpy) (1.16.0)\n",
            "Requirement already satisfied: charset-normalizer<4,>=2 in /usr/local/lib/python3.10/dist-packages (from requests>=2.27.0->opfunu>=1.0.0->mealpy) (3.3.0)\n",
            "Requirement already satisfied: idna<4,>=2.5 in /usr/local/lib/python3.10/dist-packages (from requests>=2.27.0->opfunu>=1.0.0->mealpy) (3.4)\n",
            "Requirement already satisfied: urllib3<3,>=1.21.1 in /usr/local/lib/python3.10/dist-packages (from requests>=2.27.0->opfunu>=1.0.0->mealpy) (2.0.6)\n",
            "Requirement already satisfied: certifi>=2017.4.17 in /usr/local/lib/python3.10/dist-packages (from requests>=2.27.0->opfunu>=1.0.0->mealpy) (2023.7.22)\n",
            "Installing collected packages: opfunu, mealpy\n",
            "Successfully installed mealpy-2.5.4 opfunu-1.0.1\n"
          ]
        },
        {
          "output_type": "stream",
          "name": "stderr",
          "text": [
            "[nltk_data] Downloading package stopwords to /root/nltk_data...\n",
            "[nltk_data]   Unzipping corpora/stopwords.zip.\n"
          ]
        }
      ],
      "source": [
        "!pip install mealpy\n",
        "import nltk\n",
        "from nltk.corpus import stopwords\n",
        "import csv\n",
        "from nltk.tag import pos_tag # for proper noun\n",
        "from nltk.tokenize import word_tokenize, sent_tokenize\n",
        "from nltk.stem import PorterStemmer\n",
        "from nltk.tokenize import sent_tokenize, word_tokenize\n",
        "from nltk.corpus import stopwords\n",
        "import pandas as pd\n",
        "import math\n",
        "import numpy as np\n",
        "import re\n",
        "from sklearn.feature_extraction.text import CountVectorizer\n",
        "from sklearn.metrics import roc_curve, roc_auc_score,auc\n",
        "nltk.download('stopwords')\n",
        "from mealpy.swarm_based.GWO import OriginalGWO\n",
        "import numpy as np\n",
        "import pandas as pd\n",
        "import seaborn as sns\n",
        "import tensorflow as tf\n",
        "import matplotlib.pyplot as plt\n",
        "from tensorflow.keras.optimizers import Adam\n",
        "import numpy as np\n",
        "import pandas as pd\n",
        "from sklearn.model_selection import train_test_split\n",
        "from sklearn.preprocessing import LabelEncoder\n",
        "from tensorflow import keras\n",
        "from tensorflow.keras.preprocessing.text import Tokenizer\n",
        "from tensorflow.keras.preprocessing.sequence import pad_sequences\n",
        "from tensorflow.keras.models import Sequential\n",
        "from tensorflow.keras.layers import Dense, Embedding, Flatten,LSTM"
      ]
    },
    {
      "cell_type": "code",
      "execution_count": null,
      "id": "527527b9",
      "metadata": {
        "id": "527527b9"
      },
      "outputs": [],
      "source": [
        "stop_words = set(stopwords.words('english'))\n",
        "\n",
        "def preprocess(doc):\n",
        "  doc = doc.replace('@', 'at')\n",
        "  doc = doc.replace('\\'', ' ')\n",
        "  doc = doc.replace(',', ' ')\n",
        "  doc = doc.replace('$', 'dollar')\n",
        "  lst = []\n",
        "  for token in doc.split():\n",
        "    if token.lower() not in stop_words:\n",
        "      lst.append(token)\n",
        "  return ' '.join(lst)\n"
      ]
    },
    {
      "cell_type": "code",
      "execution_count": null,
      "id": "de7db7b5",
      "metadata": {
        "colab": {
          "base_uri": "https://localhost:8080/"
        },
        "id": "de7db7b5",
        "outputId": "1c1d26d7-ec5c-40a3-e3c3-6c1a6ce25c56"
      },
      "outputs": [
        {
          "output_type": "execute_result",
          "data": {
            "text/plain": [
              "(551, 100)"
            ]
          },
          "metadata": {},
          "execution_count": 5
        }
      ],
      "source": [
        "# Sample text summarization dataset\n",
        "\n",
        "data = pd.read_excel(\"/content/Data1.xlsx\")\n",
        "\n",
        "# Create a DataFrame from the dataset\n",
        "df = pd.DataFrame(data)\n",
        "\n",
        "# Encode labels\n",
        "label_encoder = LabelEncoder()\n",
        "df['label_encoded'] = label_encoder.fit_transform(df['Label'])\n",
        "\n",
        "# Pre-processing the sentences\n",
        "df['Sentences'] = df['Sentences'].apply(preprocess)\n",
        "\n",
        "# Split the data into features and labels\n",
        "X = df['Sentences']\n",
        "y = df['label_encoded']\n",
        "\n",
        "# Tokenize and pad sequences\n",
        "max_words = 1000  # Define the maximum number of words to consider\n",
        "max_sequence_length = 100  # Define the maximum sequence length\n",
        "\n",
        "tokenizer = Tokenizer(num_words=max_words)\n",
        "tokenizer.fit_on_texts(X)\n",
        "sequences = tokenizer.texts_to_sequences(X)\n",
        "X = pad_sequences(sequences, maxlen=max_sequence_length)\n",
        "\n",
        "\n",
        "# Split the data into training and testing sets\n",
        "X_train, X_test, y_train, y_test = train_test_split(X, y, test_size=0.2, random_state=42)\n",
        "X_train.shape"
      ]
    },
    {
      "cell_type": "markdown",
      "id": "515dc459",
      "metadata": {
        "id": "515dc459"
      },
      "source": [
        "With Embedding layer"
      ]
    },
    {
      "cell_type": "code",
      "execution_count": null,
      "id": "a3e306f8",
      "metadata": {
        "id": "a3e306f8"
      },
      "outputs": [],
      "source": [
        "model = Sequential()\n",
        "model.add(Embedding(input_dim=1000, output_dim=128, input_length=X_train.shape[1]))\n",
        "model.add(LSTM(128))\n",
        "model.add(Dense(1, activation='softmax'))\n",
        "\n"
      ]
    },
    {
      "cell_type": "markdown",
      "id": "dd02e433",
      "metadata": {
        "id": "dd02e433"
      },
      "source": [
        "Without Embedding layer"
      ]
    },
    {
      "cell_type": "code",
      "execution_count": null,
      "id": "c349c431",
      "metadata": {
        "id": "c349c431"
      },
      "outputs": [],
      "source": [
        "#model = Sequential()\n",
        "#model.add(LSTM(128, input_shape=(X_train.shape[1], 1)))  # Note the input_shape\n",
        "#model.add(Dense(1, activation='sigmoid'))\n"
      ]
    },
    {
      "cell_type": "code",
      "execution_count": null,
      "id": "c291ec4a",
      "metadata": {
        "colab": {
          "base_uri": "https://localhost:8080/"
        },
        "id": "c291ec4a",
        "outputId": "fded178a-aaec-4b8a-86b9-f819183e5689"
      },
      "outputs": [
        {
          "output_type": "stream",
          "name": "stdout",
          "text": [
            "14/14 [==============================] - 4s 157ms/step - loss: 0.6442 - accuracy: 0.7409 - val_loss: 0.5824 - val_accuracy: 0.7387\n",
            "5/5 [==============================] - 0s 44ms/step - loss: 0.5649 - accuracy: 0.7681\n",
            "Test loss: 0.5649, Test accuracy: 0.7681\n"
          ]
        }
      ],
      "source": [
        "model.compile(optimizer='adam', loss='binary_crossentropy', metrics=['accuracy'])\n",
        "\n",
        "# Train the model\n",
        "model.fit(X_train, y_train, epochs=1, batch_size=32, validation_split=0.2)\n",
        "\n",
        "# Evaluate the model on the test set\n",
        "loss, accuracy = model.evaluate(X_test, y_test)\n",
        "print(f\"Test loss: {loss:.4f}, Test accuracy: {accuracy:.4f}\")"
      ]
    },
    {
      "cell_type": "code",
      "execution_count": null,
      "id": "29a25a8c",
      "metadata": {
        "colab": {
          "base_uri": "https://localhost:8080/",
          "height": 599
        },
        "id": "29a25a8c",
        "outputId": "3fb9f875-74ac-4ed9-a2b5-cb9b903dea1a"
      },
      "outputs": [
        {
          "output_type": "stream",
          "name": "stdout",
          "text": [
            "5/5 [==============================] - 0s 24ms/step\n",
            "ROC AUC: 0.46875\n"
          ]
        },
        {
          "output_type": "display_data",
          "data": {
            "text/plain": [
              "<Figure size 800x600 with 1 Axes>"
            ],
            "image/png": "[encoded data removed]"
          },
          "metadata": {}
        }
      ],
      "source": [
        "# Predict probabilities on the test data\n",
        "y_pred_prob = model.predict(X_test)\n",
        "\n",
        "# Calculate ROC curve and AUC\n",
        "fpr, tpr, thresholds = roc_curve(y_test, y_pred_prob)\n",
        "roc_auc = auc(fpr, tpr)\n",
        "\n",
        "print(\"ROC AUC:\", roc_auc)\n",
        "\n",
        "\n",
        "# Plot ROC curve\n",
        "plt.figure(figsize=(8, 6))\n",
        "plt.plot(fpr, tpr, color='darkorange', lw=2, label='ROC curve (area = %0.2f)' % roc_auc)\n",
        "plt.plot([0, 1], [0, 1], color='navy', lw=2, linestyle='--')\n",
        "plt.xlim([0.0, 1.0])\n",
        "plt.ylim([0.0, 1.05])\n",
        "plt.xlabel('False Positive Rate')\n",
        "plt.ylabel('True Positive Rate')\n",
        "plt.title('Receiver Operating Characteristic')\n",
        "plt.legend(loc='lower right')\n",
        "plt.show()\n",
        "\n"
      ]
    },
    {
      "cell_type": "markdown",
      "id": "0c18838c",
      "metadata": {
        "id": "0c18838c"
      },
      "source": [
        "# LSTM with GWO optmization"
      ]
    },
    {
      "cell_type": "code",
      "execution_count": null,
      "id": "f969e73b",
      "metadata": {
        "colab": {
          "base_uri": "https://localhost:8080/"
        },
        "id": "f969e73b",
        "outputId": "82975c73-bb9a-4caa-a99a-2bd334bd2105"
      },
      "outputs": [
        {
          "output_type": "stream",
          "name": "stdout",
          "text": [
            "(689, 100)\n",
            "(551, 100)\n"
          ]
        }
      ],
      "source": [
        "# Split the dataset into training and testing sets\n",
        "X = X\n",
        "y = y\n",
        "X_train, X_test, y_train, y_test = train_test_split(X, y, test_size=0.2, random_state=42)\n",
        "\n",
        "print(X.shape)\n",
        "print(X_train.shape)"
      ]
    },
    {
      "cell_type": "code",
      "execution_count": null,
      "id": "5599c086",
      "metadata": {
        "collapsed": true,
        "colab": {
          "base_uri": "https://localhost:8080/"
        },
        "id": "5599c086",
        "outputId": "ce312efa-dd2c-4f26-cab4-d4b0a58dce5f"
      },
      "outputs": [
        {
          "output_type": "stream",
          "name": "stdout",
          "text": [
            "14/14 [==============================] - 3s 64ms/step - loss: 0.6777 - accuracy: 0.7205 - val_loss: 0.6605 - val_accuracy: 0.7387\n",
            "5/5 [==============================] - 0s 5ms/step - loss: 0.6563 - accuracy: 0.7681\n"
          ]
        },
        {
          "output_type": "stream",
          "name": "stderr",
          "text": [
            "INFO:mealpy.swarm_based.GWO.OriginalGWO:Solving single objective optimization problem.\n"
          ]
        },
        {
          "output_type": "stream",
          "name": "stdout",
          "text": [
            "14/14 [==============================] - 2s 56ms/step - loss: 0.6904 - accuracy: 0.7045 - val_loss: 0.6869 - val_accuracy: 0.7387\n",
            "5/5 [==============================] - 0s 5ms/step - loss: 0.6857 - accuracy: 0.7681\n",
            "14/14 [==============================] - 2s 55ms/step - loss: 0.6854 - accuracy: 0.7114 - val_loss: 0.6760 - val_accuracy: 0.7387\n",
            "5/5 [==============================] - 0s 6ms/step - loss: 0.6748 - accuracy: 0.7609\n",
            "14/14 [==============================] - 2s 55ms/step - loss: 0.6911 - accuracy: 0.7023 - val_loss: 0.6885 - val_accuracy: 0.7387\n",
            "5/5 [==============================] - 0s 5ms/step - loss: 0.6879 - accuracy: 0.7681\n",
            "14/14 [==============================] - 3s 54ms/step - loss: 0.6838 - accuracy: 0.6727 - val_loss: 0.6722 - val_accuracy: 0.7477\n",
            "5/5 [==============================] - 0s 5ms/step - loss: 0.6691 - accuracy: 0.7609\n",
            "14/14 [==============================] - 2s 56ms/step - loss: 0.6890 - accuracy: 0.6841 - val_loss: 0.6841 - val_accuracy: 0.7387\n",
            "5/5 [==============================] - 0s 6ms/step - loss: 0.6835 - accuracy: 0.7681\n",
            "14/14 [==============================] - 2s 56ms/step - loss: 0.6801 - accuracy: 0.6886 - val_loss: 0.6634 - val_accuracy: 0.7387\n",
            "5/5 [==============================] - 0s 5ms/step - loss: 0.6598 - accuracy: 0.7681\n",
            "14/14 [==============================] - 3s 93ms/step - loss: 0.6834 - accuracy: 0.6955 - val_loss: 0.6703 - val_accuracy: 0.7207\n",
            "5/5 [==============================] - 0s 9ms/step - loss: 0.6693 - accuracy: 0.7754\n",
            "14/14 [==============================] - 3s 57ms/step - loss: 0.6778 - accuracy: 0.6705 - val_loss: 0.6538 - val_accuracy: 0.7387\n",
            "5/5 [==============================] - 0s 5ms/step - loss: 0.6482 - accuracy: 0.7681\n",
            "14/14 [==============================] - 2s 55ms/step - loss: 0.6772 - accuracy: 0.6864 - val_loss: 0.6569 - val_accuracy: 0.7387\n",
            "5/5 [==============================] - 0s 6ms/step - loss: 0.6515 - accuracy: 0.7681\n",
            "14/14 [==============================] - 2s 57ms/step - loss: 0.6910 - accuracy: 0.7250 - val_loss: 0.6883 - val_accuracy: 0.7387\n",
            "5/5 [==============================] - 0s 6ms/step - loss: 0.6878 - accuracy: 0.7681\n",
            "14/14 [==============================] - 2s 56ms/step - loss: 0.6849 - accuracy: 0.6909 - val_loss: 0.6741 - val_accuracy: 0.7387\n",
            "5/5 [==============================] - 0s 6ms/step - loss: 0.6718 - accuracy: 0.7681\n",
            "14/14 [==============================] - 3s 58ms/step - loss: 0.6515 - accuracy: 0.7114 - val_loss: 0.6221 - val_accuracy: 0.7387\n",
            "5/5 [==============================] - 0s 6ms/step - loss: 0.6122 - accuracy: 0.7681\n",
            "14/14 [==============================] - 2s 56ms/step - loss: 0.6822 - accuracy: 0.6705 - val_loss: 0.6703 - val_accuracy: 0.7207\n",
            "5/5 [==============================] - 0s 6ms/step - loss: 0.6676 - accuracy: 0.7754\n",
            "14/14 [==============================] - 2s 57ms/step - loss: 0.6798 - accuracy: 0.7409 - val_loss: 0.6731 - val_accuracy: 0.7387\n",
            "5/5 [==============================] - 0s 6ms/step - loss: 0.6702 - accuracy: 0.7681\n",
            "14/14 [==============================] - 2s 57ms/step - loss: 0.6849 - accuracy: 0.6841 - val_loss: 0.6737 - val_accuracy: 0.7387\n",
            "5/5 [==============================] - 0s 8ms/step - loss: 0.6713 - accuracy: 0.7681\n",
            "14/14 [==============================] - 3s 58ms/step - loss: 0.6870 - accuracy: 0.6909 - val_loss: 0.6807 - val_accuracy: 0.7387\n",
            "5/5 [==============================] - 0s 6ms/step - loss: 0.6791 - accuracy: 0.7681\n",
            "14/14 [==============================] - 2s 56ms/step - loss: 0.6860 - accuracy: 0.6955 - val_loss: 0.6771 - val_accuracy: 0.7387\n",
            "5/5 [==============================] - 0s 6ms/step - loss: 0.6739 - accuracy: 0.7681\n",
            "14/14 [==============================] - 2s 57ms/step - loss: 0.6833 - accuracy: 0.7250 - val_loss: 0.6724 - val_accuracy: 0.7387\n",
            "5/5 [==============================] - 0s 5ms/step - loss: 0.6699 - accuracy: 0.7681\n",
            "14/14 [==============================] - 2s 73ms/step - loss: 0.6814 - accuracy: 0.7023 - val_loss: 0.6672 - val_accuracy: 0.7387\n",
            "5/5 [==============================] - 0s 8ms/step - loss: 0.6641 - accuracy: 0.7681\n",
            "14/14 [==============================] - 3s 55ms/step - loss: 0.6835 - accuracy: 0.6841 - val_loss: 0.6700 - val_accuracy: 0.7297\n",
            "5/5 [==============================] - 0s 6ms/step - loss: 0.6666 - accuracy: 0.7681\n"
          ]
        },
        {
          "output_type": "stream",
          "name": "stderr",
          "text": [
            "INFO:mealpy.swarm_based.GWO.OriginalGWO:>Problem: P, Epoch: 1, Current best: 0.760869562625885, Global best: 0.760869562625885, Runtime: 30.99507 seconds\n"
          ]
        },
        {
          "output_type": "stream",
          "name": "stdout",
          "text": [
            "14/14 [==============================] - 2s 57ms/step - loss: 0.6851 - accuracy: 0.6909 - val_loss: 0.6775 - val_accuracy: 0.7387\n",
            "5/5 [==============================] - 0s 5ms/step - loss: 0.6746 - accuracy: 0.7754\n",
            "14/14 [==============================] - 2s 54ms/step - loss: 0.6896 - accuracy: 0.7091 - val_loss: 0.6857 - val_accuracy: 0.7387\n",
            "5/5 [==============================] - 0s 5ms/step - loss: 0.6845 - accuracy: 0.7681\n",
            "14/14 [==============================] - 3s 76ms/step - loss: 0.6815 - accuracy: 0.7227 - val_loss: 0.6693 - val_accuracy: 0.7658\n",
            "5/5 [==============================] - 0s 5ms/step - loss: 0.6685 - accuracy: 0.7609\n",
            "14/14 [==============================] - 3s 58ms/step - loss: 0.6807 - accuracy: 0.6932 - val_loss: 0.6638 - val_accuracy: 0.7387\n",
            "5/5 [==============================] - 0s 6ms/step - loss: 0.6616 - accuracy: 0.7681\n",
            "14/14 [==============================] - 2s 57ms/step - loss: 0.6724 - accuracy: 0.6841 - val_loss: 0.6433 - val_accuracy: 0.7387\n",
            "5/5 [==============================] - 0s 7ms/step - loss: 0.6396 - accuracy: 0.7681\n",
            "14/14 [==============================] - 2s 55ms/step - loss: 0.6747 - accuracy: 0.7114 - val_loss: 0.6572 - val_accuracy: 0.7387\n",
            "5/5 [==============================] - 0s 5ms/step - loss: 0.6520 - accuracy: 0.7754\n",
            "14/14 [==============================] - 3s 74ms/step - loss: 0.6883 - accuracy: 0.6841 - val_loss: 0.6821 - val_accuracy: 0.7477\n",
            "5/5 [==============================] - 0s 8ms/step - loss: 0.6808 - accuracy: 0.7681\n",
            "14/14 [==============================] - 3s 60ms/step - loss: 0.6882 - accuracy: 0.7045 - val_loss: 0.6827 - val_accuracy: 0.7477\n",
            "5/5 [==============================] - 0s 6ms/step - loss: 0.6814 - accuracy: 0.7754\n",
            "14/14 [==============================] - 2s 59ms/step - loss: 0.6731 - accuracy: 0.7386 - val_loss: 0.6633 - val_accuracy: 0.7387\n",
            "5/5 [==============================] - 0s 6ms/step - loss: 0.6585 - accuracy: 0.7681\n",
            "14/14 [==============================] - 2s 57ms/step - loss: 0.6876 - accuracy: 0.7250 - val_loss: 0.6816 - val_accuracy: 0.7387\n",
            "5/5 [==============================] - 0s 6ms/step - loss: 0.6803 - accuracy: 0.7681\n"
          ]
        },
        {
          "output_type": "stream",
          "name": "stderr",
          "text": [
            "INFO:mealpy.swarm_based.GWO.OriginalGWO:>Problem: P, Epoch: 2, Current best: 0.760869562625885, Global best: 0.760869562625885, Runtime: 30.04035 seconds\n"
          ]
        },
        {
          "output_type": "stream",
          "name": "stdout",
          "text": [
            "Solution: [1.54975796], Fitness: 0.760869562625885\n"
          ]
        }
      ],
      "source": [
        "from mealpy.swarm_based.GWO import OriginalGWO\n",
        "from sklearn.model_selection import StratifiedKFold\n",
        "# Define the objective function (accuracy on the validation set)\n",
        "def fitness_function(params):\n",
        "    lstm_units= params\n",
        "    lstm_units=int(lstm_units)\n",
        "    # Create and compile your LSTM model with the given hyperparameters\n",
        "    model = Sequential()\n",
        "    model.add(Embedding(input_dim=1000, output_dim=128, input_length=X_train.shape[1]))\n",
        "    model.add(LSTM(lstm_units))\n",
        "    model.add(Dense(1, activation='sigmoid'))\n",
        "    model.compile(loss='binary_crossentropy', optimizer='adam', metrics=['accuracy'])\n",
        "\n",
        "    # Train and evaluate the model\n",
        "    model.fit(X_train, y_train, epochs=1, batch_size=32, validation_split=0.2)\n",
        "    _, val_accuracy = model.evaluate(X_test, y_test)  # Replace with your validation data\n",
        "\n",
        "    return val_accuracy  # Minimize the negative validation accuracy\n",
        "\n",
        "\n",
        "problem_dict1 = {\n",
        "\n",
        "    \"fit_func\": fitness_function,\n",
        "    'lb':[1], # Lower bound of our parameters\n",
        "    'ub':[2], # upper bound of our parameters\n",
        "    \"minmax\": \"min\"\n",
        "    }\n",
        "\n",
        "\n",
        "epoch = 2\n",
        "pop_size = 10\n",
        "gwo= OriginalGWO(epoch, pop_size)\n",
        "best_position, best_fitness = gwo.solve(problem_dict1)\n",
        "print(f\"Solution: {best_position}, Fitness: {best_fitness}\")\n",
        "\n"
      ]
    },
    {
      "cell_type": "code",
      "execution_count": null,
      "id": "3a17af9b",
      "metadata": {
        "id": "3a17af9b"
      },
      "outputs": [],
      "source": [
        "# # Define a function to optimize\n",
        "# def train_and_evaluate_lstm(hyperparameters):\n",
        "#     lstm_units = int(hyperparameters[0])\n",
        "#     dropout_rate = hyperparameters[1]\n",
        "\n",
        "#     model = tf.keras.Sequential([\n",
        "#         tf.keras.layers.Embedding(input_dim=X_train.shape[1], output_dim=128, input_length=1000),\n",
        "#         tf.keras.layers.LSTM(lstm_units),\n",
        "#         tf.keras.layers.Dropout(dropout_rate),\n",
        "#         tf.keras.layers.Dense(1, activation='sigmoid')\n",
        "#     ])\n",
        "\n",
        "#     model.compile(loss='binary_crossentropy', optimizer='adam', metrics=['accuracy'])\n",
        "\n",
        "#     model.fit(X_train, y_train, epochs=1, batch_size=32, validation_split=0.2, verbose=0)\n",
        "\n",
        "#     _, validation_accuracy = model.evaluate(X_test, y_test)\n",
        "\n",
        "#     return validation_accuracy\n",
        "\n",
        "# # Initialize the GWO optimizer\n",
        "# problem_dict1 = {\n",
        "\n",
        "#     \"fit_func\": train_and_evaluate_lstm,\n",
        "#     'lb':[16,0.6], # Lower bound of our parameters\n",
        "#     'ub':[18,0.5], # upper bound of our parameters\n",
        "#     \"minmax\": \"min\"\n",
        "#     }\n",
        "\n",
        "\n",
        "# #gwo= OriginalGWO(epoch, pop_size)\n",
        "# #best_position, best_fitness = gwo.solve(problem_dict1)\n",
        "# #print(f\"Solution: {best_position}, Fitness: {best_fitness}\")\n",
        "\n",
        "# epoch = 2\n",
        "# pop_size = 10\n",
        "# # Perform the GWO optimization\n",
        "\n",
        "# gwo= OriginalGWO(epoch, pop_size)\n",
        "# best_hyperparameters, best_performance = gwo.solve(problem_dict1)\n",
        "\n",
        "# # Print the best hyperparameters and their corresponding performance\n",
        "# print(\"Best Hyperparameters:\", best_hyperparameters)\n",
        "# print(\"Best Performance (Validation Accuracy):\", best_performance)"
      ]
    },
    {
      "cell_type": "code",
      "execution_count": null,
      "id": "851e3a59",
      "metadata": {
        "colab": {
          "base_uri": "https://localhost:8080/"
        },
        "id": "851e3a59",
        "outputId": "d0bc281e-c54b-414b-8bfa-98d1955ce96e"
      },
      "outputs": [
        {
          "output_type": "stream",
          "name": "stdout",
          "text": [
            "Fold 1/3\n",
            "15/15 [==============================] - 3s 55ms/step - loss: 0.6553 - accuracy: 0.7233 - val_loss: 0.6215 - val_accuracy: 0.7478\n",
            "8/8 [==============================] - 0s 5ms/step - loss: 0.6215 - accuracy: 0.7478\n",
            "Fold 2/3\n",
            "15/15 [==============================] - 3s 63ms/step - loss: 0.6850 - accuracy: 0.6623 - val_loss: 0.6701 - val_accuracy: 0.7435\n",
            "8/8 [==============================] - 0s 6ms/step - loss: 0.6701 - accuracy: 0.7435\n",
            "Fold 3/3\n",
            "15/15 [==============================] - 2s 57ms/step - loss: 0.6811 - accuracy: 0.6435 - val_loss: 0.6635 - val_accuracy: 0.7511\n",
            "8/8 [==============================] - 0s 6ms/step - loss: 0.6635 - accuracy: 0.7511\n",
            "Average Validation Accuracy: 0.7474653522173563\n"
          ]
        }
      ],
      "source": [
        "# Define K-Fold parameters\n",
        "num_folds = 3  # Number of folds for cross-validation\n",
        "kfold = StratifiedKFold(n_splits=num_folds, shuffle=True, random_state=42)\n",
        "epochs=1\n",
        "batch_size=32\n",
        "# Initialize a list to store validation accuracies and optmized hyper parameter\n",
        "\n",
        "validation_accuracies = []\n",
        "#best_lstm_units=int(best_position[0])\n",
        "best_lstm_units=2 # assuming because optmization didnot run\n",
        "# K-Fold cross-validation loop\n",
        "for fold, (train_indices, val_indices) in enumerate(kfold.split(X, y)):\n",
        "    print(f\"Fold {fold + 1}/{num_folds}\")\n",
        "\n",
        "    # Split the data into training and validation sets for this fold\n",
        "    X_train, X_val = X[train_indices], X[val_indices]\n",
        "    y_train, y_val = y[train_indices], y[val_indices]\n",
        "\n",
        "    # Compile the same LSTM model with optmizied parameter\n",
        "    final_model_GWO = Sequential()\n",
        "    final_model_GWO.add(Embedding(input_dim=1000, output_dim=128, input_length=X_train.shape[1]))\n",
        "    final_model_GWO.add(LSTM(best_lstm_units))\n",
        "    final_model_GWO.add(Dense(1, activation='sigmoid'))\n",
        "    final_model_GWO.compile(loss='binary_crossentropy', optimizer='adam', metrics=['accuracy'])\n",
        "\n",
        "    # Train the model for this fold\n",
        "    final_model_GWO.fit(X_train, y_train, epochs=epochs, batch_size=batch_size, validation_data=(X_val, y_val))\n",
        "\n",
        "    # Evaluate the model on the validation set for this fold\n",
        "    _, val_accuracy = final_model_GWO.evaluate(X_val, y_val)\n",
        "    validation_accuracies.append(val_accuracy)\n",
        "\n",
        "# Calculate and print the average validation accuracy across folds\n",
        "average_validation_accuracy = np.mean(validation_accuracies)\n",
        "print(f\"Average Validation Accuracy: {average_validation_accuracy}\")\n"
      ]
    },
    {
      "cell_type": "code",
      "execution_count": null,
      "id": "a2f97b4e",
      "metadata": {
        "id": "a2f97b4e",
        "outputId": "6556f816-144c-415e-8d64-3f4ca91474ca",
        "colab": {
          "base_uri": "https://localhost:8080/",
          "height": 599
        }
      },
      "outputs": [
        {
          "output_type": "stream",
          "name": "stdout",
          "text": [
            "5/5 [==============================] - 0s 7ms/step\n",
            "ROC AUC: 0.8434551886792453\n"
          ]
        },
        {
          "output_type": "display_data",
          "data": {
            "text/plain": [
              "<Figure size 800x600 with 1 Axes>"
            ],
            "image/png": "[encoded data removed]"
          },
          "metadata": {}
        }
      ],
      "source": [
        "# Predict probabilities on the test data\n",
        "y_pred_prob = final_model_GWO.predict(X_test)\n",
        "\n",
        "# Calculate ROC curve and AUC\n",
        "fpr, tpr, thresholds = roc_curve(y_test, y_pred_prob)\n",
        "roc_auc = auc(fpr, tpr)\n",
        "\n",
        "print(\"ROC AUC:\", roc_auc)\n",
        "\n",
        "\n",
        "# Plot ROC curve\n",
        "plt.figure(figsize=(8, 6))\n",
        "plt.plot(fpr, tpr, color='darkorange', lw=2, label='ROC curve (area = %0.2f)' % roc_auc)\n",
        "plt.plot([0, 1], [0, 1], color='navy', lw=2, linestyle='--')\n",
        "plt.xlim([0.0, 1.0])\n",
        "plt.ylim([0.0, 1.05])\n",
        "plt.xlabel('False Positive Rate')\n",
        "plt.ylabel('True Positive Rate')\n",
        "plt.title('Receiver Operating Characteristic')\n",
        "plt.legend(loc='lower right')\n",
        "plt.show()\n"
      ]
    },
    {
      "cell_type": "code",
      "execution_count": null,
      "id": "5fc38680",
      "metadata": {
        "id": "5fc38680"
      },
      "outputs": [],
      "source": []
    },
    {
      "cell_type": "markdown",
      "id": "14353742",
      "metadata": {
        "id": "14353742"
      },
      "source": [
        "# LSTM with Genetic algorithms\n"
      ]
    },
    {
      "cell_type": "code",
      "execution_count": null,
      "id": "3444af57",
      "metadata": {
        "id": "3444af57",
        "outputId": "1bdbea20-c882-49ec-b7ce-03ec9597ba32",
        "colab": {
          "base_uri": "https://localhost:8080/"
        }
      },
      "outputs": [
        {
          "output_type": "stream",
          "name": "stdout",
          "text": [
            "(551, 100)\n"
          ]
        }
      ],
      "source": [
        "import numpy as np\n",
        "import pandas as pd\n",
        "from sklearn.model_selection import train_test_split\n",
        "from sklearn.feature_extraction.text import CountVectorizer\n",
        "from tensorflow.keras.preprocessing.text import Tokenizer\n",
        "from tensorflow.keras.preprocessing.sequence import pad_sequences\n",
        "from tensorflow.keras.models import Sequential\n",
        "from tensorflow.keras.layers import LSTM, Embedding, Dense\n",
        "from tensorflow.keras.optimizers import Adam\n",
        "from mealpy.evolutionary_based.GA import BaseGA\n",
        "\n",
        "# Split the data into train and test sets\n",
        "X = X\n",
        "y = y\n",
        "\n",
        "X_train, X_test, y_train, y_test = train_test_split(X, y, test_size=0.2, random_state=42)\n",
        "print(X_train.shape)"
      ]
    },
    {
      "cell_type": "code",
      "execution_count": null,
      "id": "081db14f",
      "metadata": {
        "scrolled": true,
        "id": "081db14f",
        "outputId": "d32229e4-0887-4e36-9b47-70955f80ef59",
        "colab": {
          "base_uri": "https://localhost:8080/"
        }
      },
      "outputs": [
        {
          "output_type": "stream",
          "name": "stdout",
          "text": [
            "14/14 [==============================] - 4s 119ms/step - loss: 0.6398 - accuracy: 0.7295 - val_loss: 0.5859 - val_accuracy: 0.7387\n",
            "5/5 [==============================] - 0s 21ms/step - loss: 0.5640 - accuracy: 0.7681\n"
          ]
        },
        {
          "output_type": "stream",
          "name": "stderr",
          "text": [
            "INFO:mealpy.evolutionary_based.GA.BaseGA:Solving single objective optimization problem.\n"
          ]
        },
        {
          "output_type": "stream",
          "name": "stdout",
          "text": [
            "14/14 [==============================] - 3s 116ms/step - loss: 0.6481 - accuracy: 0.7250 - val_loss: 0.5803 - val_accuracy: 0.7387\n",
            "5/5 [==============================] - 0s 22ms/step - loss: 0.5591 - accuracy: 0.7681\n",
            "14/14 [==============================] - 3s 84ms/step - loss: 0.6658 - accuracy: 0.6909 - val_loss: 0.6046 - val_accuracy: 0.7387\n",
            "5/5 [==============================] - 0s 14ms/step - loss: 0.5884 - accuracy: 0.7681\n",
            "14/14 [==============================] - 3s 70ms/step - loss: 0.6643 - accuracy: 0.7318 - val_loss: 0.6186 - val_accuracy: 0.7387\n",
            "5/5 [==============================] - 0s 9ms/step - loss: 0.6071 - accuracy: 0.7681\n",
            "14/14 [==============================] - 2s 70ms/step - loss: 0.6628 - accuracy: 0.7273 - val_loss: 0.5853 - val_accuracy: 0.7387\n",
            "5/5 [==============================] - 0s 10ms/step - loss: 0.5674 - accuracy: 0.7681\n",
            "14/14 [==============================] - 2s 69ms/step - loss: 0.6567 - accuracy: 0.7136 - val_loss: 0.5886 - val_accuracy: 0.7387\n",
            "5/5 [==============================] - 0s 10ms/step - loss: 0.5645 - accuracy: 0.7681\n",
            "14/14 [==============================] - 4s 216ms/step - loss: 0.6421 - accuracy: 0.7136 - val_loss: 0.5929 - val_accuracy: 0.7387\n",
            "5/5 [==============================] - 0s 26ms/step - loss: 0.5768 - accuracy: 0.7681\n",
            "14/14 [==============================] - 3s 79ms/step - loss: 0.6583 - accuracy: 0.7182 - val_loss: 0.5913 - val_accuracy: 0.7387\n",
            "5/5 [==============================] - 0s 14ms/step - loss: 0.5699 - accuracy: 0.7681\n",
            "14/14 [==============================] - 3s 78ms/step - loss: 0.6542 - accuracy: 0.7000 - val_loss: 0.5850 - val_accuracy: 0.7387\n",
            "5/5 [==============================] - 0s 15ms/step - loss: 0.5477 - accuracy: 0.7681\n",
            "14/14 [==============================] - 3s 88ms/step - loss: 0.6545 - accuracy: 0.7114 - val_loss: 0.5738 - val_accuracy: 0.7387\n",
            "5/5 [==============================] - 0s 19ms/step - loss: 0.5444 - accuracy: 0.7681\n",
            "14/14 [==============================] - 3s 60ms/step - loss: 0.6667 - accuracy: 0.7159 - val_loss: 0.6048 - val_accuracy: 0.7387\n",
            "5/5 [==============================] - 0s 7ms/step - loss: 0.5864 - accuracy: 0.7681\n",
            "14/14 [==============================] - 4s 126ms/step - loss: 0.6536 - accuracy: 0.7091 - val_loss: 0.5817 - val_accuracy: 0.7387\n",
            "5/5 [==============================] - 0s 24ms/step - loss: 0.5565 - accuracy: 0.7681\n",
            "14/14 [==============================] - 3s 97ms/step - loss: 0.6529 - accuracy: 0.7000 - val_loss: 0.5774 - val_accuracy: 0.7387\n",
            "5/5 [==============================] - 0s 26ms/step - loss: 0.5516 - accuracy: 0.7681\n",
            "14/14 [==============================] - 3s 77ms/step - loss: 0.6617 - accuracy: 0.7318 - val_loss: 0.5836 - val_accuracy: 0.7387\n",
            "5/5 [==============================] - 0s 11ms/step - loss: 0.5526 - accuracy: 0.7681\n",
            "14/14 [==============================] - 2s 69ms/step - loss: 0.6474 - accuracy: 0.7295 - val_loss: 0.5836 - val_accuracy: 0.7387\n",
            "5/5 [==============================] - 0s 10ms/step - loss: 0.5531 - accuracy: 0.7681\n",
            "14/14 [==============================] - 3s 79ms/step - loss: 0.6693 - accuracy: 0.6932 - val_loss: 0.6262 - val_accuracy: 0.7387\n",
            "5/5 [==============================] - 0s 17ms/step - loss: 0.6158 - accuracy: 0.7681\n",
            "14/14 [==============================] - 2s 67ms/step - loss: 0.6639 - accuracy: 0.7114 - val_loss: 0.6133 - val_accuracy: 0.7387\n",
            "5/5 [==============================] - 0s 9ms/step - loss: 0.5991 - accuracy: 0.7681\n",
            "14/14 [==============================] - 3s 73ms/step - loss: 0.6557 - accuracy: 0.7182 - val_loss: 0.5818 - val_accuracy: 0.7387\n",
            "5/5 [==============================] - 0s 12ms/step - loss: 0.5443 - accuracy: 0.7681\n",
            "14/14 [==============================] - 3s 91ms/step - loss: 0.6452 - accuracy: 0.7182 - val_loss: 0.5740 - val_accuracy: 0.7387\n",
            "5/5 [==============================] - 0s 14ms/step - loss: 0.5453 - accuracy: 0.7681\n",
            "14/14 [==============================] - 3s 98ms/step - loss: 0.6541 - accuracy: 0.7227 - val_loss: 0.5789 - val_accuracy: 0.7387\n",
            "5/5 [==============================] - 0s 10ms/step - loss: 0.5506 - accuracy: 0.7681\n",
            "14/14 [==============================] - 4s 99ms/step - loss: 0.6374 - accuracy: 0.7318 - val_loss: 0.5608 - val_accuracy: 0.7387\n",
            "5/5 [==============================] - 0s 17ms/step - loss: 0.5278 - accuracy: 0.7681\n"
          ]
        },
        {
          "output_type": "stream",
          "name": "stderr",
          "text": [
            "INFO:mealpy.evolutionary_based.GA.BaseGA:>Problem: P, Epoch: 1, Current best: 0.7681159377098083, Global best: 0.7681159377098083, Runtime: 38.07188 seconds\n"
          ]
        },
        {
          "output_type": "stream",
          "name": "stdout",
          "text": [
            "14/14 [==============================] - 3s 78ms/step - loss: 0.6433 - accuracy: 0.7136 - val_loss: 0.6047 - val_accuracy: 0.7387\n",
            "5/5 [==============================] - 0s 11ms/step - loss: 0.5595 - accuracy: 0.7681\n",
            "14/14 [==============================] - 3s 111ms/step - loss: 0.6547 - accuracy: 0.7159 - val_loss: 0.5869 - val_accuracy: 0.7387\n",
            "5/5 [==============================] - 0s 15ms/step - loss: 0.5529 - accuracy: 0.7681\n",
            "14/14 [==============================] - 2s 69ms/step - loss: 0.6519 - accuracy: 0.7159 - val_loss: 0.5826 - val_accuracy: 0.7387\n",
            "5/5 [==============================] - 0s 12ms/step - loss: 0.5452 - accuracy: 0.7681\n",
            "14/14 [==============================] - 3s 81ms/step - loss: 0.6529 - accuracy: 0.7205 - val_loss: 0.5802 - val_accuracy: 0.7387\n",
            "5/5 [==============================] - 0s 12ms/step - loss: 0.5455 - accuracy: 0.7681\n",
            "14/14 [==============================] - 3s 99ms/step - loss: 0.6474 - accuracy: 0.7159 - val_loss: 0.5781 - val_accuracy: 0.7387\n",
            "5/5 [==============================] - 0s 12ms/step - loss: 0.5386 - accuracy: 0.7681\n",
            "14/14 [==============================] - 3s 69ms/step - loss: 0.6611 - accuracy: 0.7068 - val_loss: 0.6125 - val_accuracy: 0.7387\n",
            "5/5 [==============================] - 0s 9ms/step - loss: 0.5999 - accuracy: 0.7681\n",
            "14/14 [==============================] - 3s 71ms/step - loss: 0.6547 - accuracy: 0.7068 - val_loss: 0.5811 - val_accuracy: 0.7387\n",
            "5/5 [==============================] - 0s 11ms/step - loss: 0.5502 - accuracy: 0.7681\n",
            "14/14 [==============================] - 2s 65ms/step - loss: 0.6509 - accuracy: 0.7136 - val_loss: 0.5838 - val_accuracy: 0.7387\n",
            "5/5 [==============================] - 0s 13ms/step - loss: 0.5510 - accuracy: 0.7681\n",
            "14/14 [==============================] - 3s 73ms/step - loss: 0.6580 - accuracy: 0.7295 - val_loss: 0.6045 - val_accuracy: 0.7387\n",
            "5/5 [==============================] - 0s 10ms/step - loss: 0.5920 - accuracy: 0.7681\n",
            "14/14 [==============================] - 3s 71ms/step - loss: 0.6503 - accuracy: 0.7182 - val_loss: 0.5841 - val_accuracy: 0.7387\n",
            "5/5 [==============================] - 0s 11ms/step - loss: 0.5601 - accuracy: 0.7681\n"
          ]
        },
        {
          "output_type": "stream",
          "name": "stderr",
          "text": [
            "INFO:mealpy.evolutionary_based.GA.BaseGA:>Problem: P, Epoch: 2, Current best: 0.7681159377098083, Global best: 0.7681159377098083, Runtime: 34.81656 seconds\n"
          ]
        },
        {
          "output_type": "stream",
          "name": "stdout",
          "text": [
            "Solution: [112.41964309], Fitness: 0.7681159377098083\n"
          ]
        }
      ],
      "source": [
        "# Define the objective function (negative accuracy on the validation set)\n",
        "def fitness_function(params):\n",
        "    lstm_units = int(params[0])\n",
        "    # Create and compile your LSTM model with the given hyperparameters\n",
        "    model = Sequential()\n",
        "    model.add(Embedding(input_dim=1000, output_dim=128, input_length=X_train.shape[1]))\n",
        "    model.add(LSTM(lstm_units))\n",
        "    model.add(Dense(1, activation='sigmoid'))\n",
        "    model.compile(loss='binary_crossentropy', optimizer='adam', metrics=['accuracy'])\n",
        "\n",
        "    # Train and evaluate the model\n",
        "    model.fit(X_train, y_train, epochs=1, batch_size=32, validation_split=0.2)\n",
        "    _, val_accuracy = model.evaluate(X_test, y_test)  # Replace with your validation data\n",
        "\n",
        "    return val_accuracy  # Minimize the negative validation accuracy\n",
        "\n",
        "problem_dict1 = {\n",
        "    \"fit_func\": fitness_function,\n",
        "    'lb': [32],  # Lower bound of lstm_units\n",
        "    'ub': [128],  # Upper bound of lstm_units\n",
        "    \"minmax\": \"min\"\n",
        "}\n",
        "\n",
        "epoch = 2\n",
        "\n",
        "pop_size = 10\n",
        "\n",
        "GA = BaseGA(epoch, pop_size)\n",
        "\n",
        "best_position, best_fitness = GA.solve(problem_dict1)\n",
        "\n",
        "print(f\"Solution: {best_position}, Fitness: {best_fitness}\")"
      ]
    },
    {
      "cell_type": "markdown",
      "id": "a801d708",
      "metadata": {
        "id": "a801d708"
      },
      "source": [
        "# Define K-Fold parameters"
      ]
    },
    {
      "cell_type": "code",
      "execution_count": null,
      "id": "8dde3fe7",
      "metadata": {
        "id": "8dde3fe7",
        "outputId": "898eec35-d8a7-4129-b7ac-7a85c8e2be5d",
        "colab": {
          "base_uri": "https://localhost:8080/"
        }
      },
      "outputs": [
        {
          "output_type": "stream",
          "name": "stdout",
          "text": [
            "Fold 1/3\n",
            "15/15 [==============================] - 4s 181ms/step - loss: 0.6383 - accuracy: 0.7124 - val_loss: 0.5687 - val_accuracy: 0.7478\n",
            "8/8 [==============================] - 0s 41ms/step - loss: 0.5687 - accuracy: 0.7478\n",
            "Fold 2/3\n",
            "15/15 [==============================] - 4s 118ms/step - loss: 0.6413 - accuracy: 0.7298 - val_loss: 0.5686 - val_accuracy: 0.7435\n",
            "8/8 [==============================] - 0s 23ms/step - loss: 0.5686 - accuracy: 0.7435\n",
            "Fold 3/3\n",
            "15/15 [==============================] - 4s 130ms/step - loss: 0.6444 - accuracy: 0.7283 - val_loss: 0.5606 - val_accuracy: 0.7467\n",
            "8/8 [==============================] - 0s 26ms/step - loss: 0.5606 - accuracy: 0.7467\n",
            "Average Validation Accuracy: 0.7460097471872965\n"
          ]
        }
      ],
      "source": [
        "num_folds = 3  # Number of folds for cross-validation\n",
        "kfold = StratifiedKFold(n_splits=num_folds, shuffle=True, random_state=42)\n",
        "epochs=1\n",
        "batch_size=32\n",
        "# Initialize a list to store validation accuracies and optmized hyper parameter\n",
        "\n",
        "validation_accuracies = []\n",
        "best_lstm_units=int(best_position[0])\n",
        "#best_lstm_units=2 # assuming because optmization didnot run\n",
        "# K-Fold cross-validation loop\n",
        "for fold, (train_indices, val_indices) in enumerate(kfold.split(X, y)):\n",
        "    print(f\"Fold {fold + 1}/{num_folds}\")\n",
        "\n",
        "    # Split the data into training and validation sets for this fold\n",
        "    X_train, X_val = X[train_indices], X[val_indices]\n",
        "    y_train, y_val = y[train_indices], y[val_indices]\n",
        "\n",
        "    # Compile the same LSTM model with optmizied parameter\n",
        "    final_model_GA = Sequential()\n",
        "    final_model_GA.add(Embedding(input_dim=1000, output_dim=128, input_length=X_train.shape[1]))\n",
        "    final_model_GA.add(LSTM(best_lstm_units))\n",
        "    final_model_GA.add(Dense(1, activation='sigmoid'))\n",
        "    final_model_GA.compile(loss='binary_crossentropy', optimizer='adam', metrics=['accuracy'])\n",
        "\n",
        "    # Train the model for this fold\n",
        "    final_model_GA.fit(X_train, y_train, epochs=epochs, batch_size=batch_size, validation_data=(X_val, y_val))\n",
        "\n",
        "    # Evaluate the model on the validation set for this fold\n",
        "    _, val_accuracy = final_model_GA.evaluate(X_val, y_val)\n",
        "    validation_accuracies.append(val_accuracy)\n",
        "\n",
        "# Calculate and print the average validation accuracy across folds\n",
        "average_validation_accuracy = np.mean(validation_accuracies)\n",
        "print(f\"Average Validation Accuracy: {average_validation_accuracy}\")"
      ]
    },
    {
      "cell_type": "code",
      "execution_count": null,
      "id": "c406f201",
      "metadata": {
        "id": "c406f201",
        "outputId": "24578141-e84d-4fd2-ceae-b9de54e93c08",
        "colab": {
          "base_uri": "https://localhost:8080/",
          "height": 633
        }
      },
      "outputs": [
        {
          "output_type": "stream",
          "name": "stdout",
          "text": [
            "5/5 [==============================] - 0s 22ms/step\n",
            "5/5 [==============================] - 0s 6ms/step\n",
            "ROC AUC via GA: 0.8160377358490565\n",
            "ROC AUC via GWO: 0.8434551886792453\n"
          ]
        },
        {
          "output_type": "display_data",
          "data": {
            "text/plain": [
              "<Figure size 800x600 with 1 Axes>"
            ],
            "image/png": "[encoded data removed]"
          },
          "metadata": {}
        }
      ],
      "source": [
        "# Predict probabilities on the test data\n",
        "y_pred_prob_GA = final_model_GA.predict(X_test)\n",
        "y_pred_prob_GWO= final_model_GWO.predict(X_test)\n",
        "\n",
        "# Calculate ROC curve and AUC\n",
        "fpr_GA, tpr_GA, thresholds_GA = roc_curve(y_test, y_pred_prob_GA)\n",
        "fpr_GWO,tpr_GWO,thresholds_GWO=roc_curve(y_test,y_pred_prob_GWO)\n",
        "roc_auc_GA = auc(fpr_GA, tpr_GA)\n",
        "roc_auc_GWO = auc(fpr_GWO,tpr_GWO)\n",
        "\n",
        "print(\"ROC AUC via GA:\", roc_auc_GA)\n",
        "print(\"ROC AUC via GWO:\", roc_auc_GWO)\n",
        "\n",
        "\n",
        "# Plot ROC curve\n",
        "plt.figure(figsize=(8, 6))\n",
        "plt.plot(fpr_GA, tpr_GA, color='darkorange', lw=2, label='ROC curve via GA (area = %0.2f)' % roc_auc_GA)\n",
        "plt.plot(fpr_GWO, tpr_GWO, color='red', lw=2, label='ROC curve via GWO (area = %0.2f)' % roc_auc_GWO)\n",
        "plt.plot([0, 1], [0, 1], color='navy', lw=2, linestyle='--')\n",
        "plt.xlim([0.0, 1.0])\n",
        "plt.ylim([0.0, 1.05])\n",
        "plt.xlabel('False Positive Rate')\n",
        "plt.ylabel('True Positive Rate')\n",
        "plt.title('Receiver Operating Characteristic')\n",
        "plt.legend(loc='lower right')\n",
        "plt.show()\n"
      ]
    },
    {
      "cell_type": "code",
      "execution_count": null,
      "id": "3e2c9009",
      "metadata": {
        "id": "3e2c9009"
      },
      "outputs": [],
      "source": []
    },
    {
      "cell_type": "code",
      "execution_count": null,
      "id": "48021cb8",
      "metadata": {
        "id": "48021cb8"
      },
      "outputs": [],
      "source": []
    },
    {
      "cell_type": "code",
      "execution_count": null,
      "id": "23f7bc95",
      "metadata": {
        "id": "23f7bc95"
      },
      "outputs": [],
      "source": []
    }
  ],
  "metadata": {
    "kernelspec": {
      "display_name": "Python 3 (ipykernel)",
      "language": "python",
      "name": "python3"
    },
    "language_info": {
      "codemirror_mode": {
        "name": "ipython",
        "version": 3
      },
      "file_extension": ".py",
      "mimetype": "text/x-python",
      "name": "python",
      "nbconvert_exporter": "python",
      "pygments_lexer": "ipython3",
      "version": "3.7.16"
    },
    "colab": {
      "provenance": []
    }
  },
  "nbformat": 4,
  "nbformat_minor": 5
}